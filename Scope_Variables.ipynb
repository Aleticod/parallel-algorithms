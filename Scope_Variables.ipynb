{
  "nbformat": 4,
  "nbformat_minor": 0,
  "metadata": {
    "colab": {
      "provenance": [],
      "collapsed_sections": []
    },
    "kernelspec": {
      "name": "python3",
      "display_name": "Python 3"
    },
    "language_info": {
      "name": "python"
    }
  },
  "cells": [
    {
      "cell_type": "markdown",
      "source": [
        "# Scopes of Variables"
      ],
      "metadata": {
        "id": "AZwqKruBe8I0"
      }
    },
    {
      "cell_type": "markdown",
      "source": [
        "This is the original code to calculate the area with Trapecio Method"
      ],
      "metadata": {
        "id": "nhNqTNS5fH56"
      }
    },
    {
      "cell_type": "code",
      "execution_count": 1,
      "metadata": {
        "colab": {
          "base_uri": "https://localhost:8080/"
        },
        "id": "M82jcmM_eT0N",
        "outputId": "f1fb917a-6163-4839-be7e-efd14d0e9ceb"
      },
      "outputs": [
        {
          "output_type": "stream",
          "name": "stdout",
          "text": [
            "Writing trap.c\n"
          ]
        }
      ],
      "source": [
        "%%writefile trap.c\n",
        "#include <stdio.h>\n",
        "#include <stdlib.h>\n",
        "#include <omp.h>\n",
        "\n",
        "double f(double x){return x * x;}\n",
        "void trap(double a, double b, int n, double *global_result_p);\n",
        "\n",
        "int main(){\n",
        "    double global_result  = 0.0;\n",
        "    double a = 0.0, b = 3.0;\n",
        "    int n = 1073741824;\n",
        "    int thread_count = 50;\n",
        "\n",
        "    #pragma omp parallel num_threads(thread_count)\n",
        "    {\n",
        "        trap(a, b, n, &global_result);\n",
        "    }\n",
        "    printf(\"%.14e \\n\", global_result);\n",
        "    return 0;\n",
        "\n",
        "}\n",
        "void trap(double a, double b, int n, double *global_result_p){\n",
        "    double h, x, my_result;\n",
        "    double local_a, local_b;\n",
        "    int i, local_n;\n",
        "    int my_rank = omp_get_thread_num();\n",
        "    int thread_count = omp_get_num_threads();\n",
        "\n",
        "    h = (b - a) / n;\n",
        "    local_n = n / thread_count;\n",
        "    local_a = a + my_rank * local_n * h;\n",
        "    local_b = local_a + local_n * h;\n",
        "    my_result = (f(local_a) + f(local_b)) / 2.0;\n",
        "    for (i = 1; i <= local_n - 1; i++){\n",
        "        x = local_a + i * h;\n",
        "        my_result += f(x);\n",
        "    } \n",
        "    my_result *= h;\n",
        "    #pragma omp critical \n",
        "    *global_result_p += my_result;\n",
        "} /* Trap */\n"
      ]
    },
    {
      "cell_type": "code",
      "source": [
        "!g++ -fopenmp trap.c\n",
        "!./a.out"
      ],
      "metadata": {
        "colab": {
          "base_uri": "https://localhost:8080/"
        },
        "id": "ccfQPXj5ec5w",
        "outputId": "38033c47-a306-46f7-872b-c5c98616e9bc"
      },
      "execution_count": 2,
      "outputs": [
        {
          "output_type": "stream",
          "name": "stdout",
          "text": [
            "8.99999939650358e+00 \n"
          ]
        }
      ]
    },
    {
      "cell_type": "markdown",
      "source": [
        "## First use of Scope\n"
      ],
      "metadata": {
        "id": "Mu2-ANQSetsQ"
      }
    },
    {
      "cell_type": "code",
      "source": [
        "%%writefile trap1.c\n",
        "#include <stdio.h>\n",
        "#include <stdlib.h>\n",
        "#include <omp.h>\n",
        "\n",
        "double f(double x){return x * x;}\n",
        "double trap(double a, double b, int n);\n",
        "\n",
        "int main(){\n",
        "    double global_result  = 0.0;\n",
        "    double a = 0.0, b = 3.0;\n",
        "    int n = 1073741824;\n",
        "    int thread_count = 50;\n",
        "\n",
        "    #pragma omp parallel num_threads(thread_count)\n",
        "    {\n",
        "      #pragma omp critical\n",
        "      global_result += trap(a, b, n);\n",
        "    }\n",
        "    printf(\"%.14e \\n\", global_result);\n",
        "    return 0;\n",
        "\n",
        "}\n",
        "double trap(double a, double b, int n){\n",
        "    double h, x, my_result;\n",
        "    double local_a, local_b;\n",
        "    int i, local_n;\n",
        "    int my_rank = omp_get_thread_num();\n",
        "    int thread_count = omp_get_num_threads();\n",
        "\n",
        "    h = (b - a) / n;\n",
        "    local_n = n / thread_count;\n",
        "    local_a = a + my_rank * local_n * h;\n",
        "    local_b = local_a + local_n * h;\n",
        "    my_result = (f(local_a) + f(local_b)) / 2.0;\n",
        "    for (i = 1; i <= local_n - 1; i++){\n",
        "        x = local_a + i * h;\n",
        "        my_result += f(x);\n",
        "    } \n",
        "    return my_result *= h;\n",
        "} /* Trap */"
      ],
      "metadata": {
        "colab": {
          "base_uri": "https://localhost:8080/"
        },
        "id": "u_ogdMaueoIs",
        "outputId": "44fabcd7-5405-476d-dfb7-f9210e6fede4"
      },
      "execution_count": 8,
      "outputs": [
        {
          "output_type": "stream",
          "name": "stdout",
          "text": [
            "Overwriting trap1.c\n"
          ]
        }
      ]
    },
    {
      "cell_type": "code",
      "source": [
        "!g++ -fopenmp trap1.c -o trap1.exe\n",
        "!./trap1.exe"
      ],
      "metadata": {
        "colab": {
          "base_uri": "https://localhost:8080/"
        },
        "id": "jqD5banZgCcY",
        "outputId": "e92f3378-1d55-4655-840c-d3ba0e0bb94b"
      },
      "execution_count": 16,
      "outputs": [
        {
          "output_type": "stream",
          "name": "stdout",
          "text": [
            "8.99999939650358e+00 \n"
          ]
        }
      ]
    },
    {
      "cell_type": "markdown",
      "source": [
        "## Second use of Scope"
      ],
      "metadata": {
        "id": "JF4MqlhJgeMj"
      }
    },
    {
      "cell_type": "code",
      "source": [
        "%%writefile trap2.c\n",
        "#include <stdio.h>\n",
        "#include <stdlib.h>\n",
        "#include <omp.h>\n",
        "\n",
        "double f(double x){return x * x;}\n",
        "double trap(double a, double b, int n);\n",
        "\n",
        "int main(){\n",
        "    double global_result  = 0.0;\n",
        "    double a = 0.0, b = 3.0;\n",
        "    int n = 1073741824;\n",
        "    int thread_count = 50;\n",
        "\n",
        "    #pragma omp parallel num_threads(thread_count)\n",
        "    {\n",
        "      double my_result = 0.0;\n",
        "      my_result += trap(a, b, n);\n",
        "      #pragma omp critical\n",
        "      global_result += my_result;\n",
        "    }\n",
        "    printf(\"%.14e \\n\", global_result);\n",
        "    return 0;\n",
        "\n",
        "}\n",
        "double trap(double a, double b, int n){\n",
        "    double h, x, my_result;\n",
        "    double local_a, local_b;\n",
        "    int i, local_n;\n",
        "    int my_rank = omp_get_thread_num();\n",
        "    int thread_count = omp_get_num_threads();\n",
        "\n",
        "    h = (b - a) / n;\n",
        "    local_n = n / thread_count;\n",
        "    local_a = a + my_rank * local_n * h;\n",
        "    local_b = local_a + local_n * h;\n",
        "    my_result = (f(local_a) + f(local_b)) / 2.0;\n",
        "    for (i = 1; i <= local_n - 1; i++){\n",
        "        x = local_a + i * h;\n",
        "        my_result += f(x);\n",
        "    } \n",
        "    return my_result *= h;\n",
        "} /* Trap */"
      ],
      "metadata": {
        "colab": {
          "base_uri": "https://localhost:8080/"
        },
        "id": "pfzj1zA8gGZw",
        "outputId": "c23151da-ce55-42d2-ca1e-324da0c4498c"
      },
      "execution_count": 11,
      "outputs": [
        {
          "output_type": "stream",
          "name": "stdout",
          "text": [
            "Writing trap2.c\n"
          ]
        }
      ]
    },
    {
      "cell_type": "code",
      "source": [
        "!g++ -fopenmp trap2.c -o trap2.exe\n",
        "!./trap2.exe"
      ],
      "metadata": {
        "colab": {
          "base_uri": "https://localhost:8080/"
        },
        "id": "C8vHuXwag59Y",
        "outputId": "3791243c-0db0-4e34-f757-c86d90b4be09"
      },
      "execution_count": 17,
      "outputs": [
        {
          "output_type": "stream",
          "name": "stdout",
          "text": [
            "8.99999939650358e+00 \n"
          ]
        }
      ]
    },
    {
      "cell_type": "markdown",
      "source": [
        "## Third use of Scope"
      ],
      "metadata": {
        "id": "YeOY_iIwixp-"
      }
    },
    {
      "cell_type": "code",
      "source": [
        "%%writefile trap3.c\n",
        "#include <stdio.h>\n",
        "#include <stdlib.h>\n",
        "#include <omp.h>\n",
        "\n",
        "double f(double x){return x * x;}\n",
        "double trap(double a, double b, int n);\n",
        "\n",
        "int main(){\n",
        "    double global_result  = 0.0;\n",
        "    double a = 0.0, b = 3.0;\n",
        "    int n = 1073741824;\n",
        "    int thread_count = 50;\n",
        "\n",
        "    #pragma omp parallel num_threads(thread_count) reduction(+: global_result)\n",
        "    {\n",
        "      global_result += trap(a, b, n);\n",
        "    }\n",
        "    printf(\"%.14e \\n\", global_result);\n",
        "    return 0;\n",
        "\n",
        "}\n",
        "double trap(double a, double b, int n){\n",
        "    double h, x, my_result;\n",
        "    double local_a, local_b;\n",
        "    int i, local_n;\n",
        "    int my_rank = omp_get_thread_num();\n",
        "    int thread_count = omp_get_num_threads();\n",
        "\n",
        "    h = (b - a) / n;\n",
        "    local_n = n / thread_count;\n",
        "    local_a = a + my_rank * local_n * h;\n",
        "    local_b = local_a + local_n * h;\n",
        "    my_result = (f(local_a) + f(local_b)) / 2.0;\n",
        "    for (i = 1; i <= local_n - 1; i++){\n",
        "        x = local_a + i * h;\n",
        "        my_result += f(x);\n",
        "    } \n",
        "    return my_result *= h;\n",
        "} /* Trap */"
      ],
      "metadata": {
        "colab": {
          "base_uri": "https://localhost:8080/"
        },
        "id": "BrjCr92JhPWE",
        "outputId": "96c2980d-1ca3-44c8-c51c-87d8a655865b"
      },
      "execution_count": 13,
      "outputs": [
        {
          "output_type": "stream",
          "name": "stdout",
          "text": [
            "Writing trap3.c\n"
          ]
        }
      ]
    },
    {
      "cell_type": "code",
      "source": [
        "!g++ -fopenmp trap3.c -o trap3.exe\n",
        "!./trap3.exe"
      ],
      "metadata": {
        "colab": {
          "base_uri": "https://localhost:8080/"
        },
        "id": "aFuRhbC9h3Zw",
        "outputId": "e2b32292-7a49-455c-b1df-63d68173337d"
      },
      "execution_count": 18,
      "outputs": [
        {
          "output_type": "stream",
          "name": "stdout",
          "text": [
            "8.99999939650358e+00 \n"
          ]
        }
      ]
    }
  ]
}