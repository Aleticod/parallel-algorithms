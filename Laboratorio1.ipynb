{
  "nbformat": 4,
  "nbformat_minor": 0,
  "metadata": {
    "colab": {
      "provenance": []
    },
    "kernelspec": {
      "name": "python3",
      "display_name": "Python 3"
    },
    "language_info": {
      "name": "python"
    }
  },
  "cells": [
    {
      "cell_type": "markdown",
      "source": [
        "# Guía número 1\n",
        "Uso de puntero en C++"
      ],
      "metadata": {
        "id": "Z0kVwtUl2hZ-"
      }
    },
    {
      "cell_type": "code",
      "execution_count": null,
      "metadata": {
        "colab": {
          "base_uri": "https://localhost:8080/"
        },
        "id": "WRe9zSqVgfdb",
        "outputId": "2bf585ae-e2b1-479f-cdca-a3f23e115ac2"
      },
      "outputs": [
        {
          "output_type": "stream",
          "name": "stdout",
          "text": [
            "Overwriting direccion.cpp\n"
          ]
        }
      ],
      "source": [
        "%%writefile direccion.cpp\n",
        "#include<stdio.h>\n",
        "\n",
        "int main(){\n",
        "  int Dato = 5, *PtrDato;\n",
        "  PtrDato = &Dato;\n",
        "  printf(\"%d \\n\", *PtrDato);\n",
        "}"
      ]
    },
    {
      "cell_type": "code",
      "source": [
        "! gcc direccion.cpp -o dieccionProgram"
      ],
      "metadata": {
        "id": "ATTdRw_PmmRq"
      },
      "execution_count": null,
      "outputs": []
    },
    {
      "cell_type": "code",
      "source": [
        "! ./dieccionProgram"
      ],
      "metadata": {
        "colab": {
          "base_uri": "https://localhost:8080/"
        },
        "id": "PR5ll1szmuxY",
        "outputId": "cf3ae6ce-4170-4bb6-f198-cfdb9dc0a8e6"
      },
      "execution_count": null,
      "outputs": [
        {
          "output_type": "stream",
          "name": "stdout",
          "text": [
            "5 \n"
          ]
        }
      ]
    },
    {
      "cell_type": "code",
      "source": [
        "%%writefile ejercicio2.cpp\n",
        "#include<stdio.h>\n",
        "\n",
        "int main(){\n",
        "  int *ptr;\n",
        "  int dato = 30;\n",
        "\n",
        "  ptr = &dato;\n",
        "  *ptr = 50;\n",
        "\n",
        "  printf(\"%d \\n\", dato);\n",
        "  return 0;\n",
        "}"
      ],
      "metadata": {
        "colab": {
          "base_uri": "https://localhost:8080/"
        },
        "id": "JUGuXjNhp7Gf",
        "outputId": "372c7df7-84a5-4271-9e35-eade30916574"
      },
      "execution_count": null,
      "outputs": [
        {
          "output_type": "stream",
          "name": "stdout",
          "text": [
            "Overwriting ejercicio2.cpp\n"
          ]
        }
      ]
    },
    {
      "cell_type": "code",
      "source": [
        "! gcc ejercicio2.cpp -o ejercicio2.exe"
      ],
      "metadata": {
        "id": "xmBM5dvpqMZf"
      },
      "execution_count": null,
      "outputs": []
    },
    {
      "cell_type": "code",
      "source": [
        "! ./ejercicio2.exe"
      ],
      "metadata": {
        "colab": {
          "base_uri": "https://localhost:8080/"
        },
        "id": "yzn4VElfqUGP",
        "outputId": "532971af-db29-4ae1-ef0d-c51443f9da92"
      },
      "execution_count": null,
      "outputs": [
        {
          "output_type": "stream",
          "name": "stdout",
          "text": [
            "50 \n"
          ]
        }
      ]
    },
    {
      "cell_type": "code",
      "source": [
        "%%writefile ejercicio3.cpp\n",
        "#include<stdio.h>\n",
        "\n",
        "void cuadrado(int *);\n",
        "\n",
        "int main(){\n",
        "  int a = 5;\n",
        "  printf(\"El valor original = %d\", a);\n",
        "  cuadrado(&a);\n",
        "  printf(\"El valor del cuadrado = %d \\n\", a);\n",
        "  return 0;\n",
        "}\n",
        "\n",
        "void cuadrado(int *nro) {\n",
        "  *nro = *nro * *nro;\n",
        "}"
      ],
      "metadata": {
        "colab": {
          "base_uri": "https://localhost:8080/"
        },
        "id": "LgK_on5rq4d_",
        "outputId": "ca2edadd-8885-4a6b-fd81-53d6547e237d"
      },
      "execution_count": null,
      "outputs": [
        {
          "output_type": "stream",
          "name": "stdout",
          "text": [
            "Overwriting ejercicio3.cpp\n"
          ]
        }
      ]
    },
    {
      "cell_type": "code",
      "source": [
        "! gcc ejercicio3.cpp -o ejercicio3.exe"
      ],
      "metadata": {
        "id": "u60Dim09rmeW"
      },
      "execution_count": null,
      "outputs": []
    },
    {
      "cell_type": "code",
      "source": [
        "! ./ejercicio3.exe"
      ],
      "metadata": {
        "colab": {
          "base_uri": "https://localhost:8080/"
        },
        "id": "bd72BePlrrxf",
        "outputId": "14ff21b6-1e33-4076-804e-f24f5717b251"
      },
      "execution_count": null,
      "outputs": [
        {
          "output_type": "stream",
          "name": "stdout",
          "text": [
            "El valor original = 5El valor del cuadrado = 25 \n"
          ]
        }
      ]
    },
    {
      "cell_type": "markdown",
      "source": [
        "# Aplicación de la guía\n",
        "## Ejercicio 2"
      ],
      "metadata": {
        "id": "S7U3ZVLSue7h"
      }
    },
    {
      "cell_type": "code",
      "source": [
        "%%writefile practica2.cpp\n",
        "#include<stdio.h>\n",
        "\n",
        "void sortTwoNumbers(int *, int *);\n",
        "\n",
        "int main(){\n",
        "  int a = 7;\n",
        "  int b = 6;\n",
        "  printf(\"los valores originales son: %d y %d \\n\", a, b);\n",
        "  sortTwoNumbers(&a, &b);\n",
        "  printf(\"Los valores ordenaos son: %d y %d \\n\", a, b);\n",
        "  return 0;\n",
        "}\n",
        "\n",
        "void sortTwoNumbers(int *nro1, int *nro2) {\n",
        "  int aux;\n",
        "  if (*nro1 > *nro2)  {\n",
        "    aux = *nro1;\n",
        "    *nro1 = *nro2;\n",
        "    *nro2 = aux;\n",
        "  }\n",
        "}"
      ],
      "metadata": {
        "colab": {
          "base_uri": "https://localhost:8080/"
        },
        "id": "qGhSJYqxrxPu",
        "outputId": "6866b12b-ede6-4a8d-8073-68e6d8db9233"
      },
      "execution_count": null,
      "outputs": [
        {
          "output_type": "stream",
          "name": "stdout",
          "text": [
            "Overwriting practica2.cpp\n"
          ]
        }
      ]
    },
    {
      "cell_type": "code",
      "source": [
        "! gcc practica2.cpp -o practica2.exe"
      ],
      "metadata": {
        "id": "Kx4GLS7ksx1-"
      },
      "execution_count": null,
      "outputs": []
    },
    {
      "cell_type": "code",
      "source": [
        "! ./practica2.exe"
      ],
      "metadata": {
        "colab": {
          "base_uri": "https://localhost:8080/"
        },
        "id": "2io3uVwMteX_",
        "outputId": "2b848ce4-f543-4a5d-d823-8ac71b888efb"
      },
      "execution_count": null,
      "outputs": [
        {
          "output_type": "stream",
          "name": "stdout",
          "text": [
            "los valores originales son: 7 y 6 \n",
            "Los valores ordenaos son: 6 y 7 \n"
          ]
        }
      ]
    },
    {
      "cell_type": "code",
      "source": [],
      "metadata": {
        "id": "8H5KcSvLtv5u"
      },
      "execution_count": null,
      "outputs": []
    },
    {
      "cell_type": "markdown",
      "source": [
        "## Ejercicio 3"
      ],
      "metadata": {
        "id": "jWZZcZjIwOQw"
      }
    },
    {
      "cell_type": "markdown",
      "source": [
        "Que valor puede amacenar void *vptr;?.\n",
        "\n",
        "Es una variable que contiene la dirección de memoria de una variable dinámica donde se podrá almacenar cualquier valor\n",
        "\n"
      ],
      "metadata": {
        "id": "dZs8A4ZXxE-2"
      }
    },
    {
      "cell_type": "markdown",
      "source": [
        "## Ejercicio 4"
      ],
      "metadata": {
        "id": "hnLz5C4axhSn"
      }
    },
    {
      "cell_type": "code",
      "source": [
        "%%writefile practica4.cpp\n",
        "#include<stdio.h>\n",
        "\n",
        "void  swap(int *, int *);\n",
        "\n",
        "int main(){\n",
        "  int a = 14;\n",
        "  int b = 19;\n",
        "  swap(&a, &b);\n",
        "  printf(\"Los valores cambiados son: %d, %d \\n\", a, b);\n",
        " \n",
        "  return 0;\n",
        "}\n",
        "\n",
        "void swap(int *i, int *j) {\n",
        "  int temp;\n",
        "  temp = *i;\n",
        "  *i = *j;\n",
        "  *j = temp;\n",
        "}"
      ],
      "metadata": {
        "colab": {
          "base_uri": "https://localhost:8080/"
        },
        "id": "wOuQXajHxiwV",
        "outputId": "1bbe9de7-6e5a-4d75-f1a7-487107acd51d"
      },
      "execution_count": null,
      "outputs": [
        {
          "output_type": "stream",
          "name": "stdout",
          "text": [
            "Overwriting practica4.cpp\n"
          ]
        }
      ]
    },
    {
      "cell_type": "code",
      "source": [
        "! gcc practica4.cpp -o practica4.exe"
      ],
      "metadata": {
        "id": "eOm1kEL8yRO1"
      },
      "execution_count": null,
      "outputs": []
    },
    {
      "cell_type": "code",
      "source": [
        "! ./practica4.exe"
      ],
      "metadata": {
        "colab": {
          "base_uri": "https://localhost:8080/"
        },
        "id": "ro7-SKjEyWtM",
        "outputId": "b32657a2-33e9-426d-ce63-f4cdb334f665"
      },
      "execution_count": null,
      "outputs": [
        {
          "output_type": "stream",
          "name": "stdout",
          "text": [
            "Los valores cambiados son: 19, 14 \n"
          ]
        }
      ]
    },
    {
      "cell_type": "code",
      "source": [],
      "metadata": {
        "id": "Ts-1mhcFydT9"
      },
      "execution_count": null,
      "outputs": []
    },
    {
      "cell_type": "markdown",
      "source": [
        "# Ejercicio 5"
      ],
      "metadata": {
        "id": "msjTVngVz_pv"
      }
    },
    {
      "cell_type": "markdown",
      "source": [
        "Un puntero puede ser usado para decir a una funci ́on donde debe de-\n",
        "positar el resultado de sus calculos. Escriba una funci ́on hm que con-\n",
        "vierta minutos en horas y minutos. La funci ́on recibe un entero mnts y las direcciones a dos variables enteras, digamos h y m, y atribuye valores\n",
        "a esas variables de modo de m sea menor que 60 y que 60 * h + m sea\n",
        "igual a mnts. Adem ́as escriba la funci ́on main que use la funci ́on hm."
      ],
      "metadata": {
        "id": "ngZsL01z0V__"
      }
    },
    {
      "cell_type": "code",
      "source": [
        "%%writefile practica5.cpp\n",
        "#include<stdio.h>\n",
        "\n",
        "void  hm(int , int *, int *);\n",
        "\n",
        "int main(){\n",
        "  int mnts = 68;\n",
        "  int h, m;\n",
        "  hm(mnts, &h, &m);\n",
        "  printf(\"la conversion de minutos a horas: %d, %d, %d \\n\", mnts, h, m);\n",
        " \n",
        "  return 0;\n",
        "}\n",
        "\n",
        "void hm(int mnts, int *h, int *m) {\n",
        "  *h = mnts / 60;\n",
        "  *m = mnts % 60;\n",
        "}"
      ],
      "metadata": {
        "colab": {
          "base_uri": "https://localhost:8080/"
        },
        "id": "iuIWJWvA0XmV",
        "outputId": "3ac5f473-24d6-4791-d1e3-56f748ac9f1c"
      },
      "execution_count": null,
      "outputs": [
        {
          "output_type": "stream",
          "name": "stdout",
          "text": [
            "Overwriting practica5.cpp\n"
          ]
        }
      ]
    },
    {
      "cell_type": "code",
      "source": [
        "! gcc practica5.cpp -o practica5.exe"
      ],
      "metadata": {
        "id": "iz8GvRUB12S9"
      },
      "execution_count": null,
      "outputs": []
    },
    {
      "cell_type": "code",
      "source": [
        "! ./practica5.exe"
      ],
      "metadata": {
        "colab": {
          "base_uri": "https://localhost:8080/"
        },
        "id": "wNBLeynT16C8",
        "outputId": "b45ca409-df3a-4571-936c-7b6e1f646d5e"
      },
      "execution_count": null,
      "outputs": [
        {
          "output_type": "stream",
          "name": "stdout",
          "text": [
            "la conversion de minutos a horas: 68, 1, 8 \n"
          ]
        }
      ]
    }
  ]
}