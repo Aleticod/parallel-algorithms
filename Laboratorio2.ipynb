{
  "nbformat": 4,
  "nbformat_minor": 0,
  "metadata": {
    "colab": {
      "provenance": []
    },
    "kernelspec": {
      "name": "python3",
      "display_name": "Python 3"
    },
    "language_info": {
      "name": "python"
    }
  },
  "cells": [
    {
      "cell_type": "markdown",
      "source": [
        "# Guia número 2"
      ],
      "metadata": {
        "id": "vYxc6CRwprwc"
      }
    },
    {
      "cell_type": "code",
      "execution_count": 44,
      "metadata": {
        "colab": {
          "base_uri": "https://localhost:8080/"
        },
        "id": "bqlDPRPsjYVE",
        "outputId": "cd2d32f0-483d-43d0-f178-d924c3dc50ce"
      },
      "outputs": [
        {
          "output_type": "stream",
          "name": "stdout",
          "text": [
            "Overwriting ejemplo1.cpp\n"
          ]
        }
      ],
      "source": [
        "%%writefile ejemplo1.cpp\n",
        "#include <omp.h>\n",
        "#include <iostream>\n",
        "\n",
        "using namespace std;\n",
        "int main() {\n",
        "  int nthreads;\n",
        "  int thread;\n",
        "\n",
        "#pragma omp parallel private(nthreads, thread)\n",
        "{\n",
        "  thread = omp_get_thread_num();\n",
        "  nthreads = omp_get_num_threads();\n",
        "  cout<<\"Hola mundo soy el proceso/core = \"<<thread<<\" de \"<< nthreads << \" que somos \" << std::endl;\n",
        "}\n",
        "\n",
        "}"
      ]
    },
    {
      "cell_type": "markdown",
      "source": [
        "### Compilación de ejemplo1.cpp"
      ],
      "metadata": {
        "id": "0R4bR-w6p4ED"
      }
    },
    {
      "cell_type": "code",
      "source": [
        "!g++ -fopenmp ejemplo1.cpp -o ejemplo1.exe"
      ],
      "metadata": {
        "id": "BOerSTGXkvm3"
      },
      "execution_count": 45,
      "outputs": []
    },
    {
      "cell_type": "markdown",
      "source": [
        "### Ejecución del ejemplo1.cpp"
      ],
      "metadata": {
        "id": "oPFYv0SDqC6D"
      }
    },
    {
      "cell_type": "code",
      "source": [
        "!./ejemplo1.exe"
      ],
      "metadata": {
        "colab": {
          "base_uri": "https://localhost:8080/"
        },
        "id": "OBd6_AHRk3Km",
        "outputId": "05ea6428-31dd-48ee-dc77-1632d4d597c4"
      },
      "execution_count": 46,
      "outputs": [
        {
          "output_type": "stream",
          "name": "stdout",
          "text": [
            "Hola mundo soy el proceso/core = 0 de 2 que somos \n",
            "Hola mundo soy el proceso/core = 1 de 2 que somos \n"
          ]
        }
      ]
    },
    {
      "cell_type": "markdown",
      "source": [
        "# Informe del procesador"
      ],
      "metadata": {
        "id": "F2C2bLAuqMgz"
      }
    },
    {
      "cell_type": "code",
      "source": [
        "!cat  /proc/cpuinfo"
      ],
      "metadata": {
        "colab": {
          "base_uri": "https://localhost:8080/"
        },
        "id": "MjiFMzgjmvE2",
        "outputId": "b689e4c3-0889-4238-e814-bf49053549dc"
      },
      "execution_count": 19,
      "outputs": [
        {
          "output_type": "stream",
          "name": "stdout",
          "text": [
            "processor\t: 0\n",
            "vendor_id\t: GenuineIntel\n",
            "cpu family\t: 6\n",
            "model\t\t: 79\n",
            "model name\t: Intel(R) Xeon(R) CPU @ 2.20GHz\n",
            "stepping\t: 0\n",
            "microcode\t: 0x1\n",
            "cpu MHz\t\t: 2199.998\n",
            "cache size\t: 56320 KB\n",
            "physical id\t: 0\n",
            "siblings\t: 2\n",
            "core id\t\t: 0\n",
            "cpu cores\t: 1\n",
            "apicid\t\t: 0\n",
            "initial apicid\t: 0\n",
            "fpu\t\t: yes\n",
            "fpu_exception\t: yes\n",
            "cpuid level\t: 13\n",
            "wp\t\t: yes\n",
            "flags\t\t: fpu vme de pse tsc msr pae mce cx8 apic sep mtrr pge mca cmov pat pse36 clflush mmx fxsr sse sse2 ss ht syscall nx pdpe1gb rdtscp lm constant_tsc rep_good nopl xtopology nonstop_tsc cpuid tsc_known_freq pni pclmulqdq ssse3 fma cx16 pcid sse4_1 sse4_2 x2apic movbe popcnt aes xsave avx f16c rdrand hypervisor lahf_lm abm 3dnowprefetch invpcid_single ssbd ibrs ibpb stibp fsgsbase tsc_adjust bmi1 hle avx2 smep bmi2 erms invpcid rtm rdseed adx smap xsaveopt arat md_clear arch_capabilities\n",
            "bugs\t\t: cpu_meltdown spectre_v1 spectre_v2 spec_store_bypass l1tf mds swapgs taa mmio_stale_data retbleed\n",
            "bogomips\t: 4399.99\n",
            "clflush size\t: 64\n",
            "cache_alignment\t: 64\n",
            "address sizes\t: 46 bits physical, 48 bits virtual\n",
            "power management:\n",
            "\n",
            "processor\t: 1\n",
            "vendor_id\t: GenuineIntel\n",
            "cpu family\t: 6\n",
            "model\t\t: 79\n",
            "model name\t: Intel(R) Xeon(R) CPU @ 2.20GHz\n",
            "stepping\t: 0\n",
            "microcode\t: 0x1\n",
            "cpu MHz\t\t: 2199.998\n",
            "cache size\t: 56320 KB\n",
            "physical id\t: 0\n",
            "siblings\t: 2\n",
            "core id\t\t: 0\n",
            "cpu cores\t: 1\n",
            "apicid\t\t: 1\n",
            "initial apicid\t: 1\n",
            "fpu\t\t: yes\n",
            "fpu_exception\t: yes\n",
            "cpuid level\t: 13\n",
            "wp\t\t: yes\n",
            "flags\t\t: fpu vme de pse tsc msr pae mce cx8 apic sep mtrr pge mca cmov pat pse36 clflush mmx fxsr sse sse2 ss ht syscall nx pdpe1gb rdtscp lm constant_tsc rep_good nopl xtopology nonstop_tsc cpuid tsc_known_freq pni pclmulqdq ssse3 fma cx16 pcid sse4_1 sse4_2 x2apic movbe popcnt aes xsave avx f16c rdrand hypervisor lahf_lm abm 3dnowprefetch invpcid_single ssbd ibrs ibpb stibp fsgsbase tsc_adjust bmi1 hle avx2 smep bmi2 erms invpcid rtm rdseed adx smap xsaveopt arat md_clear arch_capabilities\n",
            "bugs\t\t: cpu_meltdown spectre_v1 spectre_v2 spec_store_bypass l1tf mds swapgs taa mmio_stale_data retbleed\n",
            "bogomips\t: 4399.99\n",
            "clflush size\t: 64\n",
            "cache_alignment\t: 64\n",
            "address sizes\t: 46 bits physical, 48 bits virtual\n",
            "power management:\n",
            "\n"
          ]
        }
      ]
    },
    {
      "cell_type": "markdown",
      "source": [
        "# Aplicación del guia\n",
        "## Ejercicio 1\n",
        "Haz que 10 cores ejecuten paralelamente el c ́odigo hello.cpp, para ello usa omp set num threads."
      ],
      "metadata": {
        "id": "qWb79yMlqYjU"
      }
    },
    {
      "cell_type": "code",
      "source": [
        "%%writefile hello.cpp\n",
        "#include <omp.h>\n",
        "#include <iostream>\n",
        "\n",
        "using namespace std;\n",
        "int main() {\n",
        "  int nthreads;\n",
        "  int thread;\n",
        "  omp_set_num_threads(10);\n",
        "\n",
        "#pragma omp parallel private(nthreads, thread)\n",
        "{\n",
        "  thread = omp_get_thread_num();\n",
        "  nthreads = omp_get_num_threads();\n",
        "  cout<<\"Hola mundo soy el proceso/core = \"<<thread<<\" de \"<< nthreads << \" que somos \" << std::endl;\n",
        "}\n",
        "}"
      ],
      "metadata": {
        "colab": {
          "base_uri": "https://localhost:8080/"
        },
        "id": "v5kbB0aim_hF",
        "outputId": "ea332ee5-7346-4721-a75e-54c76892c884"
      },
      "execution_count": 51,
      "outputs": [
        {
          "output_type": "stream",
          "name": "stdout",
          "text": [
            "Overwriting hello.cpp\n"
          ]
        }
      ]
    },
    {
      "cell_type": "code",
      "source": [
        "!g++ -fopenmp hello.cpp -o hello.exe"
      ],
      "metadata": {
        "id": "d2wNpu01oyJ9"
      },
      "execution_count": 52,
      "outputs": []
    },
    {
      "cell_type": "code",
      "source": [
        "!./hello.exe"
      ],
      "metadata": {
        "colab": {
          "base_uri": "https://localhost:8080/"
        },
        "id": "GsSJZGVjo7g0",
        "outputId": "54b103b4-0681-4c9f-d810-76ea6894deff"
      },
      "execution_count": 53,
      "outputs": [
        {
          "output_type": "stream",
          "name": "stdout",
          "text": [
            "Hola mundo soy el proceso/core = 3 de 10 que somos \n",
            "Hola mundo soy el proceso/core = 4 de 10 que somos \n",
            "Hola mundo soy el proceso/core = 8 de 10 que somos \n",
            "Hola mundo soy el proceso/core = 5 de 10 que somos \n",
            "Hola mundo soy el proceso/core = 6 de 10 que somos \n",
            "Hola mundo soy el proceso/core = 7 de 10 que somos \n",
            "Hola mundo soy el proceso/core = 0 de 10 que somos \n",
            "Hola mundo soy el proceso/core = 9 de 10 que somos \n",
            "Hola mundo soy el proceso/core = 2 de 10 que somos \n",
            "Hola mundo soy el proceso/core = 1 de 10 que somos \n"
          ]
        }
      ]
    },
    {
      "cell_type": "markdown",
      "source": [
        "## Ejercicio 2\n",
        "Que pasa si eliminamos la clausula private?."
      ],
      "metadata": {
        "id": "Fa4IhZ4nq84c"
      }
    },
    {
      "cell_type": "code",
      "source": [
        "%%writefile ejercicio2.cpp\n",
        "#include <omp.h>\n",
        "#include <iostream>\n",
        "\n",
        "using namespace std;\n",
        "int main() {\n",
        "  int nthreads;\n",
        "  int thread;\n",
        "  omp_set_num_threads(10);\n",
        "\n",
        "#pragma omp parallel\n",
        "{\n",
        "  thread = omp_get_thread_num();\n",
        "  nthreads = omp_get_num_threads();\n",
        "  cout<<\"Hola mundo soy el proceso/core = \"<<thread<<\" de \"<< nthreads << \" que somos \" << std::endl;\n",
        "}\n",
        "}"
      ],
      "metadata": {
        "colab": {
          "base_uri": "https://localhost:8080/"
        },
        "id": "-Ac0ikz4pB_1",
        "outputId": "bdd56756-f2b5-4102-ce57-1fcb27230231"
      },
      "execution_count": 84,
      "outputs": [
        {
          "output_type": "stream",
          "name": "stdout",
          "text": [
            "Overwriting ejercicio2.cpp\n"
          ]
        }
      ]
    },
    {
      "cell_type": "code",
      "source": [
        "!g++ -fopenmp ejercicio2.cpp -o ejercicio2.exe"
      ],
      "metadata": {
        "id": "hbBCXTmmrFxj"
      },
      "execution_count": 85,
      "outputs": []
    },
    {
      "cell_type": "code",
      "source": [
        "!./ejercicio2.exe"
      ],
      "metadata": {
        "colab": {
          "base_uri": "https://localhost:8080/"
        },
        "id": "WS6hLEbxrRBT",
        "outputId": "68472ea4-d420-4149-e7bc-05dbfc9aca93"
      },
      "execution_count": 89,
      "outputs": [
        {
          "output_type": "stream",
          "name": "stdout",
          "text": [
            "Hola mundo soy el proceso/core = 0 de 10 que somos \n",
            "Hola mundo soy el proceso/core = 4 de 10 que somos \n",
            "Hola mundo soy el proceso/core = 3 de 10 que somos \n",
            "Hola mundo soy el proceso/core = 5 de 10 que somos \n",
            "Hola mundo soy el proceso/core = 5 de 10 que somos \n",
            "Hola mundo soy el proceso/core = 5 de 10 que somos \n",
            "Hola mundo soy el proceso/core = 5 de 10 que somos \n",
            "Hola mundo soy el proceso/core = 5 de 10 que somos \n",
            "Hola mundo soy el proceso/core = 2 de 10 que somos \n",
            "Hola mundo soy el proceso/core = 1 de 10 que somos \n"
          ]
        }
      ]
    },
    {
      "cell_type": "code",
      "source": [],
      "metadata": {
        "id": "hWKCYNYfsAcj"
      },
      "execution_count": 87,
      "outputs": []
    },
    {
      "cell_type": "markdown",
      "source": [
        "Conclución, las variables definidas serán compartidas y un subproceso diferente podrá acceder a estas variables, eso quiere decir cuando indicamos private tendrá su propia instancia de estas variables."
      ],
      "metadata": {
        "id": "d2IGjBrGtkEq"
      }
    },
    {
      "cell_type": "markdown",
      "source": [
        "## Ejercicio 3\n",
        "Crea una nueva variable e inicializala fuera de la región paralela y pasala como privada a la zona paralela, ¿El valor de la variable dentro de la\n",
        "regi ́on paralela es correcto? prueba usando fistprivate."
      ],
      "metadata": {
        "id": "Tgi0ow4-ucH6"
      }
    },
    {
      "cell_type": "markdown",
      "source": [
        "En este caso se analiza con la palabra ***private***"
      ],
      "metadata": {
        "id": "V9ngc-bKvjkJ"
      }
    },
    {
      "cell_type": "code",
      "source": [
        "%%writefile ejercicio3.cpp\n",
        "#include <omp.h>\n",
        "#include <iostream>\n",
        "\n",
        "using namespace std;\n",
        "int main() {\n",
        "  int numero = 100;\n",
        "  omp_set_num_threads(3);\n",
        "\n",
        "#pragma omp parallel private(numero)\n",
        "{\n",
        "  cout<< \"El valor de la nueva variable es \" << numero << std::endl;\n",
        "}\n",
        "}"
      ],
      "metadata": {
        "colab": {
          "base_uri": "https://localhost:8080/"
        },
        "id": "gCR_f0qmt1Vq",
        "outputId": "50f41c62-77ca-4c3b-b28d-a83fbc72db30"
      },
      "execution_count": 108,
      "outputs": [
        {
          "output_type": "stream",
          "name": "stdout",
          "text": [
            "Overwriting ejercicio3.cpp\n"
          ]
        }
      ]
    },
    {
      "cell_type": "code",
      "source": [
        "!g++ -fopenmp ejercicio3.cpp -o ejercicio3.exe"
      ],
      "metadata": {
        "id": "Wc94ruXOu31Z"
      },
      "execution_count": 109,
      "outputs": []
    },
    {
      "cell_type": "code",
      "source": [
        "!./ejercicio3.exe"
      ],
      "metadata": {
        "colab": {
          "base_uri": "https://localhost:8080/"
        },
        "id": "_xFJkBcavBLB",
        "outputId": "2cbdd031-ff41-4ed2-8167-d4cf7e08b907"
      },
      "execution_count": 110,
      "outputs": [
        {
          "output_type": "stream",
          "name": "stdout",
          "text": [
            "El valor de la nueva variable es 0\n",
            "El valor de la nueva variable es 0\n",
            "El valor de la nueva variable es 0\n"
          ]
        }
      ]
    },
    {
      "cell_type": "markdown",
      "source": [
        "En este caso se analiza con la palabra ***firstprivate*** y la variable se inicializa con el valor de la variable"
      ],
      "metadata": {
        "id": "HJA2Y2bPvW-x"
      }
    },
    {
      "cell_type": "code",
      "source": [
        "%%writefile ejercicio3.cpp\n",
        "#include <omp.h>\n",
        "#include <iostream>\n",
        "\n",
        "using namespace std;\n",
        "int main() {\n",
        "  int numero = 100;\n",
        "  omp_set_num_threads(3);\n",
        "\n",
        "#pragma omp parallel firstprivate(numero)\n",
        "{\n",
        "  cout<< \"El valor de la nueva variable es \" << numero << std::endl;\n",
        "}\n",
        "}"
      ],
      "metadata": {
        "colab": {
          "base_uri": "https://localhost:8080/"
        },
        "id": "vF28KTSAvHHx",
        "outputId": "49ba217d-b273-4b7e-93ea-e85943713df3"
      },
      "execution_count": 104,
      "outputs": [
        {
          "output_type": "stream",
          "name": "stdout",
          "text": [
            "Overwriting ejercicio3.cpp\n"
          ]
        }
      ]
    },
    {
      "cell_type": "code",
      "source": [
        "!g++ -fopenmp ejercicio3.cpp -o ejercicio3.exe"
      ],
      "metadata": {
        "id": "5N8If5NxvY6x"
      },
      "execution_count": 105,
      "outputs": []
    },
    {
      "cell_type": "code",
      "source": [
        "!./ejercicio3.exe"
      ],
      "metadata": {
        "colab": {
          "base_uri": "https://localhost:8080/"
        },
        "id": "661kDR98vbTB",
        "outputId": "120c29e0-4e33-44e1-9c99-19d908c18f4f"
      },
      "execution_count": 107,
      "outputs": [
        {
          "output_type": "stream",
          "name": "stdout",
          "text": [
            "El valor de la nueva variable es 100\n",
            "El valor de la nueva variable es 100\n",
            "El valor de la nueva variable es 100\n"
          ]
        }
      ]
    },
    {
      "cell_type": "code",
      "source": [],
      "metadata": {
        "id": "eSPiYeYhvfRh"
      },
      "execution_count": null,
      "outputs": []
    }
  ]
}